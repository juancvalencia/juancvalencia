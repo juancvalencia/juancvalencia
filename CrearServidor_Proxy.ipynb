{
  "nbformat": 4,
  "nbformat_minor": 0,
  "metadata": {
    "colab": {
      "name": "CrearServidor_Proxy.ipynb",
      "provenance": [],
      "authorship_tag": "ABX9TyMLNOnq7EvGwbZ3KchdSXkB",
      "include_colab_link": true
    },
    "kernelspec": {
      "name": "python3",
      "display_name": "Python 3"
    },
    "language_info": {
      "name": "python"
    }
  },
  "cells": [
    {
      "cell_type": "markdown",
      "metadata": {
        "id": "view-in-github",
        "colab_type": "text"
      },
      "source": [
        "<a href=\"https://colab.research.google.com/github/juancvalencia/juancvalencia/blob/main/CrearServidor_Proxy.ipynb\" target=\"_parent\"><img src=\"https://colab.research.google.com/assets/colab-badge.svg\" alt=\"Open In Colab\"/></a>"
      ]
    },
    {
      "cell_type": "code",
      "execution_count": 1,
      "metadata": {
        "colab": {
          "base_uri": "https://localhost:8080/"
        },
        "id": "vL6h3hexW1X4",
        "outputId": "9cf0d647-d060-4dca-89e7-e6ef7804d69b"
      },
      "outputs": [
        {
          "output_type": "stream",
          "name": "stdout",
          "text": [
            "\u001b[?25l\r\u001b[K     |▍                               | 10 kB 7.5 MB/s eta 0:00:01\r\u001b[K     |▉                               | 20 kB 12.3 MB/s eta 0:00:01\r\u001b[K     |█▎                              | 30 kB 16.3 MB/s eta 0:00:01\r\u001b[K     |█▊                              | 40 kB 10.7 MB/s eta 0:00:01\r\u001b[K     |██▏                             | 51 kB 9.9 MB/s eta 0:00:01\r\u001b[K     |██▋                             | 61 kB 11.5 MB/s eta 0:00:01\r\u001b[K     |███                             | 71 kB 10.1 MB/s eta 0:00:01\r\u001b[K     |███▌                            | 81 kB 7.6 MB/s eta 0:00:01\r\u001b[K     |████                            | 92 kB 8.4 MB/s eta 0:00:01\r\u001b[K     |████▍                           | 102 kB 9.0 MB/s eta 0:00:01\r\u001b[K     |████▉                           | 112 kB 9.0 MB/s eta 0:00:01\r\u001b[K     |█████▎                          | 122 kB 9.0 MB/s eta 0:00:01\r\u001b[K     |█████▊                          | 133 kB 9.0 MB/s eta 0:00:01\r\u001b[K     |██████▏                         | 143 kB 9.0 MB/s eta 0:00:01\r\u001b[K     |██████▋                         | 153 kB 9.0 MB/s eta 0:00:01\r\u001b[K     |███████                         | 163 kB 9.0 MB/s eta 0:00:01\r\u001b[K     |███████▌                        | 174 kB 9.0 MB/s eta 0:00:01\r\u001b[K     |████████                        | 184 kB 9.0 MB/s eta 0:00:01\r\u001b[K     |████████▍                       | 194 kB 9.0 MB/s eta 0:00:01\r\u001b[K     |████████▉                       | 204 kB 9.0 MB/s eta 0:00:01\r\u001b[K     |█████████▎                      | 215 kB 9.0 MB/s eta 0:00:01\r\u001b[K     |█████████▊                      | 225 kB 9.0 MB/s eta 0:00:01\r\u001b[K     |██████████▏                     | 235 kB 9.0 MB/s eta 0:00:01\r\u001b[K     |██████████▌                     | 245 kB 9.0 MB/s eta 0:00:01\r\u001b[K     |███████████                     | 256 kB 9.0 MB/s eta 0:00:01\r\u001b[K     |███████████▍                    | 266 kB 9.0 MB/s eta 0:00:01\r\u001b[K     |███████████▉                    | 276 kB 9.0 MB/s eta 0:00:01\r\u001b[K     |████████████▎                   | 286 kB 9.0 MB/s eta 0:00:01\r\u001b[K     |████████████▊                   | 296 kB 9.0 MB/s eta 0:00:01\r\u001b[K     |█████████████▏                  | 307 kB 9.0 MB/s eta 0:00:01\r\u001b[K     |█████████████▋                  | 317 kB 9.0 MB/s eta 0:00:01\r\u001b[K     |██████████████                  | 327 kB 9.0 MB/s eta 0:00:01\r\u001b[K     |██████████████▌                 | 337 kB 9.0 MB/s eta 0:00:01\r\u001b[K     |███████████████                 | 348 kB 9.0 MB/s eta 0:00:01\r\u001b[K     |███████████████▍                | 358 kB 9.0 MB/s eta 0:00:01\r\u001b[K     |███████████████▉                | 368 kB 9.0 MB/s eta 0:00:01\r\u001b[K     |████████████████▎               | 378 kB 9.0 MB/s eta 0:00:01\r\u001b[K     |████████████████▊               | 389 kB 9.0 MB/s eta 0:00:01\r\u001b[K     |█████████████████▏              | 399 kB 9.0 MB/s eta 0:00:01\r\u001b[K     |█████████████████▋              | 409 kB 9.0 MB/s eta 0:00:01\r\u001b[K     |██████████████████              | 419 kB 9.0 MB/s eta 0:00:01\r\u001b[K     |██████████████████▌             | 430 kB 9.0 MB/s eta 0:00:01\r\u001b[K     |███████████████████             | 440 kB 9.0 MB/s eta 0:00:01\r\u001b[K     |███████████████████▍            | 450 kB 9.0 MB/s eta 0:00:01\r\u001b[K     |███████████████████▉            | 460 kB 9.0 MB/s eta 0:00:01\r\u001b[K     |████████████████████▎           | 471 kB 9.0 MB/s eta 0:00:01\r\u001b[K     |████████████████████▋           | 481 kB 9.0 MB/s eta 0:00:01\r\u001b[K     |█████████████████████           | 491 kB 9.0 MB/s eta 0:00:01\r\u001b[K     |█████████████████████▌          | 501 kB 9.0 MB/s eta 0:00:01\r\u001b[K     |██████████████████████          | 512 kB 9.0 MB/s eta 0:00:01\r\u001b[K     |██████████████████████▍         | 522 kB 9.0 MB/s eta 0:00:01\r\u001b[K     |██████████████████████▉         | 532 kB 9.0 MB/s eta 0:00:01\r\u001b[K     |███████████████████████▎        | 542 kB 9.0 MB/s eta 0:00:01\r\u001b[K     |███████████████████████▊        | 552 kB 9.0 MB/s eta 0:00:01\r\u001b[K     |████████████████████████▏       | 563 kB 9.0 MB/s eta 0:00:01\r\u001b[K     |████████████████████████▋       | 573 kB 9.0 MB/s eta 0:00:01\r\u001b[K     |█████████████████████████       | 583 kB 9.0 MB/s eta 0:00:01\r\u001b[K     |█████████████████████████▌      | 593 kB 9.0 MB/s eta 0:00:01\r\u001b[K     |██████████████████████████      | 604 kB 9.0 MB/s eta 0:00:01\r\u001b[K     |██████████████████████████▍     | 614 kB 9.0 MB/s eta 0:00:01\r\u001b[K     |██████████████████████████▉     | 624 kB 9.0 MB/s eta 0:00:01\r\u001b[K     |███████████████████████████▎    | 634 kB 9.0 MB/s eta 0:00:01\r\u001b[K     |███████████████████████████▊    | 645 kB 9.0 MB/s eta 0:00:01\r\u001b[K     |████████████████████████████▏   | 655 kB 9.0 MB/s eta 0:00:01\r\u001b[K     |████████████████████████████▋   | 665 kB 9.0 MB/s eta 0:00:01\r\u001b[K     |█████████████████████████████   | 675 kB 9.0 MB/s eta 0:00:01\r\u001b[K     |█████████████████████████████▌  | 686 kB 9.0 MB/s eta 0:00:01\r\u001b[K     |██████████████████████████████  | 696 kB 9.0 MB/s eta 0:00:01\r\u001b[K     |██████████████████████████████▍ | 706 kB 9.0 MB/s eta 0:00:01\r\u001b[K     |██████████████████████████████▊ | 716 kB 9.0 MB/s eta 0:00:01\r\u001b[K     |███████████████████████████████▏| 727 kB 9.0 MB/s eta 0:00:01\r\u001b[K     |███████████████████████████████▋| 737 kB 9.0 MB/s eta 0:00:01\r\u001b[K     |████████████████████████████████| 745 kB 9.0 MB/s \n",
            "\u001b[?25h  Building wheel for pyngrok (setup.py) ... \u001b[?25l\u001b[?25hdone\n"
          ]
        }
      ],
      "source": [
        "!pip install pyngrok --quiet"
      ]
    },
    {
      "cell_type": "code",
      "source": [
        "from pyngrok import ngrok\n",
        "\n",
        "#Si existe el tunel \n",
        "ngrok.kill()\n",
        "\n",
        "#Configuracion del Token\n",
        "#Capturamos el token desde https://dashboard.ngrok.com/auth\n",
        "NGROK_AUTH_TOKEN = \"\"\n",
        "ngrok.set_auth_token(NGROK_AUTH_TOKEN)"
      ],
      "metadata": {
        "colab": {
          "base_uri": "https://localhost:8080/"
        },
        "id": "WUOrBUPFXg41",
        "outputId": "4d116376-a135-428c-d63f-9424f2a4aa55"
      },
      "execution_count": 2,
      "outputs": [
        {
          "output_type": "stream",
          "name": "stdout",
          "text": [
            ""
          ]
        }
      ]
    },
    {
      "cell_type": "code",
      "source": [
        "!pip install -q dash\n",
        "!pip install -q dash_core_components\n",
        "!pip install -q dash_html_components\n",
        "!pip install -q dash_table"
      ],
      "metadata": {
        "colab": {
          "base_uri": "https://localhost:8080/"
        },
        "id": "kT0U6v6HYgn1",
        "outputId": "008547a8-d8c4-48d5-da79-9474aaf48449"
      },
      "execution_count": 4,
      "outputs": [
        {
          "output_type": "stream",
          "name": "stdout",
          "text": [
            "\u001b[K     |████████████████████████████████| 9.9 MB 8.9 MB/s \n",
            "\u001b[K     |████████████████████████████████| 357 kB 62.7 MB/s \n",
            "\u001b[?25h"
          ]
        }
      ]
    },
    {
      "cell_type": "code",
      "source": [
        "%%writefile PruebaPython001.py\n",
        "\n",
        "# Run this app with `python app.py` and\n",
        "# visit http://127.0.0.1:8050/ in your web browser.\n",
        "\n",
        "from dash import Dash, html, dcc\n",
        "import plotly.express as px\n",
        "import pandas as pd\n",
        "\n",
        "app = Dash(__name__)\n",
        "\n",
        "# assume you have a \"long-form\" data frame\n",
        "# see https://plotly.com/python/px-arguments/ for more options\n",
        "df = pd.DataFrame({\n",
        "    \"Fruit\": [\"Apples\", \"Oranges\", \"Bananas\", \"Apples\", \"Oranges\", \"Bananas\"],\n",
        "    \"Amount\": [4, 1, 2, 2, 4, 5],\n",
        "    \"City\": [\"SF\", \"SF\", \"SF\", \"Montreal\", \"Montreal\", \"Montreal\"]\n",
        "})\n",
        "\n",
        "fig = px.bar(df, x=\"Fruit\", y=\"Amount\", color=\"City\", barmode=\"group\")\n",
        "\n",
        "app.layout = html.Div(children=[\n",
        "    html.H1(children='Hello Dash'),\n",
        "\n",
        "    html.Div(children='''\n",
        "        Dash: A web application framework for your data.\n",
        "    '''),\n",
        "\n",
        "    dcc.Graph(\n",
        "        id='example-graph',\n",
        "        figure=fig\n",
        "    )\n",
        "])\n",
        "\n",
        "if __name__ == '__main__':\n",
        "    app.run_server(debug=True)\n"
      ],
      "metadata": {
        "colab": {
          "base_uri": "https://localhost:8080/"
        },
        "id": "I27Rg8tCfxa1",
        "outputId": "f79a9f1e-66f9-4d47-de64-c742d60b9f7a"
      },
      "execution_count": 12,
      "outputs": [
        {
          "output_type": "stream",
          "name": "stdout",
          "text": [
            "Overwriting PruebaPython001.py\n"
          ]
        }
      ]
    },
    {
      "cell_type": "code",
      "source": [
        "ngrok.connect(8050)"
      ],
      "metadata": {
        "colab": {
          "base_uri": "https://localhost:8080/",
          "height": 523
        },
        "id": "cBlZha9IgW97",
        "outputId": "c93feeb8-1c90-4b56-8845-e6f1a0d0b89f"
      },
      "execution_count": 17,
      "outputs": [
        {
          "output_type": "stream",
          "name": "stderr",
          "text": [
            "WARNING:pyngrok.process.ngrok:t=2022-08-17T20:39:05+0000 lvl=warn msg=\"failed to start tunnel\" pg=/api/tunnels id=4e61460bb3a61e1d err=\"Your account may not run more than 2 tunnels over a single ngrok agent session.\\nThe tunnels already running on this session are:\\ntn_2DUzGH7jCLIqiJnVe3iy2Terqte, tn_2DUzGLPCMqx8zlfoDIdXW0auxfn\\n\\r\\n\\r\\nERR_NGROK_324\\r\\n\"\n"
          ]
        },
        {
          "output_type": "error",
          "ename": "PyngrokNgrokHTTPError",
          "evalue": "ignored",
          "traceback": [
            "\u001b[0;31m---------------------------------------------------------------------------\u001b[0m",
            "\u001b[0;31mHTTPError\u001b[0m                                 Traceback (most recent call last)",
            "\u001b[0;32m/usr/local/lib/python3.7/dist-packages/pyngrok/ngrok.py\u001b[0m in \u001b[0;36mapi_request\u001b[0;34m(url, method, data, params, timeout)\u001b[0m\n\u001b[1;32m    439\u001b[0m     \u001b[0;32mtry\u001b[0m\u001b[0;34m:\u001b[0m\u001b[0;34m\u001b[0m\u001b[0;34m\u001b[0m\u001b[0m\n\u001b[0;32m--> 440\u001b[0;31m         \u001b[0mresponse\u001b[0m \u001b[0;34m=\u001b[0m \u001b[0murlopen\u001b[0m\u001b[0;34m(\u001b[0m\u001b[0mrequest\u001b[0m\u001b[0;34m,\u001b[0m \u001b[0mdata\u001b[0m\u001b[0;34m,\u001b[0m \u001b[0mtimeout\u001b[0m\u001b[0;34m)\u001b[0m\u001b[0;34m\u001b[0m\u001b[0;34m\u001b[0m\u001b[0m\n\u001b[0m\u001b[1;32m    441\u001b[0m         \u001b[0mresponse_data\u001b[0m \u001b[0;34m=\u001b[0m \u001b[0mresponse\u001b[0m\u001b[0;34m.\u001b[0m\u001b[0mread\u001b[0m\u001b[0;34m(\u001b[0m\u001b[0;34m)\u001b[0m\u001b[0;34m.\u001b[0m\u001b[0mdecode\u001b[0m\u001b[0;34m(\u001b[0m\u001b[0;34m\"utf-8\"\u001b[0m\u001b[0;34m)\u001b[0m\u001b[0;34m\u001b[0m\u001b[0;34m\u001b[0m\u001b[0m\n",
            "\u001b[0;32m/usr/lib/python3.7/urllib/request.py\u001b[0m in \u001b[0;36murlopen\u001b[0;34m(url, data, timeout, cafile, capath, cadefault, context)\u001b[0m\n\u001b[1;32m    221\u001b[0m         \u001b[0mopener\u001b[0m \u001b[0;34m=\u001b[0m \u001b[0m_opener\u001b[0m\u001b[0;34m\u001b[0m\u001b[0;34m\u001b[0m\u001b[0m\n\u001b[0;32m--> 222\u001b[0;31m     \u001b[0;32mreturn\u001b[0m \u001b[0mopener\u001b[0m\u001b[0;34m.\u001b[0m\u001b[0mopen\u001b[0m\u001b[0;34m(\u001b[0m\u001b[0murl\u001b[0m\u001b[0;34m,\u001b[0m \u001b[0mdata\u001b[0m\u001b[0;34m,\u001b[0m \u001b[0mtimeout\u001b[0m\u001b[0;34m)\u001b[0m\u001b[0;34m\u001b[0m\u001b[0;34m\u001b[0m\u001b[0m\n\u001b[0m\u001b[1;32m    223\u001b[0m \u001b[0;34m\u001b[0m\u001b[0m\n",
            "\u001b[0;32m/usr/lib/python3.7/urllib/request.py\u001b[0m in \u001b[0;36mopen\u001b[0;34m(self, fullurl, data, timeout)\u001b[0m\n\u001b[1;32m    530\u001b[0m             \u001b[0mmeth\u001b[0m \u001b[0;34m=\u001b[0m \u001b[0mgetattr\u001b[0m\u001b[0;34m(\u001b[0m\u001b[0mprocessor\u001b[0m\u001b[0;34m,\u001b[0m \u001b[0mmeth_name\u001b[0m\u001b[0;34m)\u001b[0m\u001b[0;34m\u001b[0m\u001b[0;34m\u001b[0m\u001b[0m\n\u001b[0;32m--> 531\u001b[0;31m             \u001b[0mresponse\u001b[0m \u001b[0;34m=\u001b[0m \u001b[0mmeth\u001b[0m\u001b[0;34m(\u001b[0m\u001b[0mreq\u001b[0m\u001b[0;34m,\u001b[0m \u001b[0mresponse\u001b[0m\u001b[0;34m)\u001b[0m\u001b[0;34m\u001b[0m\u001b[0;34m\u001b[0m\u001b[0m\n\u001b[0m\u001b[1;32m    532\u001b[0m \u001b[0;34m\u001b[0m\u001b[0m\n",
            "\u001b[0;32m/usr/lib/python3.7/urllib/request.py\u001b[0m in \u001b[0;36mhttp_response\u001b[0;34m(self, request, response)\u001b[0m\n\u001b[1;32m    640\u001b[0m             response = self.parent.error(\n\u001b[0;32m--> 641\u001b[0;31m                 'http', request, response, code, msg, hdrs)\n\u001b[0m\u001b[1;32m    642\u001b[0m \u001b[0;34m\u001b[0m\u001b[0m\n",
            "\u001b[0;32m/usr/lib/python3.7/urllib/request.py\u001b[0m in \u001b[0;36merror\u001b[0;34m(self, proto, *args)\u001b[0m\n\u001b[1;32m    568\u001b[0m             \u001b[0margs\u001b[0m \u001b[0;34m=\u001b[0m \u001b[0;34m(\u001b[0m\u001b[0mdict\u001b[0m\u001b[0;34m,\u001b[0m \u001b[0;34m'default'\u001b[0m\u001b[0;34m,\u001b[0m \u001b[0;34m'http_error_default'\u001b[0m\u001b[0;34m)\u001b[0m \u001b[0;34m+\u001b[0m \u001b[0morig_args\u001b[0m\u001b[0;34m\u001b[0m\u001b[0;34m\u001b[0m\u001b[0m\n\u001b[0;32m--> 569\u001b[0;31m             \u001b[0;32mreturn\u001b[0m \u001b[0mself\u001b[0m\u001b[0;34m.\u001b[0m\u001b[0m_call_chain\u001b[0m\u001b[0;34m(\u001b[0m\u001b[0;34m*\u001b[0m\u001b[0margs\u001b[0m\u001b[0;34m)\u001b[0m\u001b[0;34m\u001b[0m\u001b[0;34m\u001b[0m\u001b[0m\n\u001b[0m\u001b[1;32m    570\u001b[0m \u001b[0;34m\u001b[0m\u001b[0m\n",
            "\u001b[0;32m/usr/lib/python3.7/urllib/request.py\u001b[0m in \u001b[0;36m_call_chain\u001b[0;34m(self, chain, kind, meth_name, *args)\u001b[0m\n\u001b[1;32m    502\u001b[0m             \u001b[0mfunc\u001b[0m \u001b[0;34m=\u001b[0m \u001b[0mgetattr\u001b[0m\u001b[0;34m(\u001b[0m\u001b[0mhandler\u001b[0m\u001b[0;34m,\u001b[0m \u001b[0mmeth_name\u001b[0m\u001b[0;34m)\u001b[0m\u001b[0;34m\u001b[0m\u001b[0;34m\u001b[0m\u001b[0m\n\u001b[0;32m--> 503\u001b[0;31m             \u001b[0mresult\u001b[0m \u001b[0;34m=\u001b[0m \u001b[0mfunc\u001b[0m\u001b[0;34m(\u001b[0m\u001b[0;34m*\u001b[0m\u001b[0margs\u001b[0m\u001b[0;34m)\u001b[0m\u001b[0;34m\u001b[0m\u001b[0;34m\u001b[0m\u001b[0m\n\u001b[0m\u001b[1;32m    504\u001b[0m             \u001b[0;32mif\u001b[0m \u001b[0mresult\u001b[0m \u001b[0;32mis\u001b[0m \u001b[0;32mnot\u001b[0m \u001b[0;32mNone\u001b[0m\u001b[0;34m:\u001b[0m\u001b[0;34m\u001b[0m\u001b[0;34m\u001b[0m\u001b[0m\n",
            "\u001b[0;32m/usr/lib/python3.7/urllib/request.py\u001b[0m in \u001b[0;36mhttp_error_default\u001b[0;34m(self, req, fp, code, msg, hdrs)\u001b[0m\n\u001b[1;32m    648\u001b[0m     \u001b[0;32mdef\u001b[0m \u001b[0mhttp_error_default\u001b[0m\u001b[0;34m(\u001b[0m\u001b[0mself\u001b[0m\u001b[0;34m,\u001b[0m \u001b[0mreq\u001b[0m\u001b[0;34m,\u001b[0m \u001b[0mfp\u001b[0m\u001b[0;34m,\u001b[0m \u001b[0mcode\u001b[0m\u001b[0;34m,\u001b[0m \u001b[0mmsg\u001b[0m\u001b[0;34m,\u001b[0m \u001b[0mhdrs\u001b[0m\u001b[0;34m)\u001b[0m\u001b[0;34m:\u001b[0m\u001b[0;34m\u001b[0m\u001b[0;34m\u001b[0m\u001b[0m\n\u001b[0;32m--> 649\u001b[0;31m         \u001b[0;32mraise\u001b[0m \u001b[0mHTTPError\u001b[0m\u001b[0;34m(\u001b[0m\u001b[0mreq\u001b[0m\u001b[0;34m.\u001b[0m\u001b[0mfull_url\u001b[0m\u001b[0;34m,\u001b[0m \u001b[0mcode\u001b[0m\u001b[0;34m,\u001b[0m \u001b[0mmsg\u001b[0m\u001b[0;34m,\u001b[0m \u001b[0mhdrs\u001b[0m\u001b[0;34m,\u001b[0m \u001b[0mfp\u001b[0m\u001b[0;34m)\u001b[0m\u001b[0;34m\u001b[0m\u001b[0;34m\u001b[0m\u001b[0m\n\u001b[0m\u001b[1;32m    650\u001b[0m \u001b[0;34m\u001b[0m\u001b[0m\n",
            "\u001b[0;31mHTTPError\u001b[0m: HTTP Error 502: Bad Gateway",
            "\nDuring handling of the above exception, another exception occurred:\n",
            "\u001b[0;31mPyngrokNgrokHTTPError\u001b[0m                     Traceback (most recent call last)",
            "\u001b[0;32m<ipython-input-17-2f199c66f164>\u001b[0m in \u001b[0;36m<module>\u001b[0;34m\u001b[0m\n\u001b[0;32m----> 1\u001b[0;31m \u001b[0mngrok\u001b[0m\u001b[0;34m.\u001b[0m\u001b[0mconnect\u001b[0m\u001b[0;34m(\u001b[0m\u001b[0;36m8050\u001b[0m\u001b[0;34m)\u001b[0m\u001b[0;34m\u001b[0m\u001b[0;34m\u001b[0m\u001b[0m\n\u001b[0m",
            "\u001b[0;32m/usr/local/lib/python3.7/dist-packages/pyngrok/ngrok.py\u001b[0m in \u001b[0;36mconnect\u001b[0;34m(addr, proto, name, pyngrok_config, **options)\u001b[0m\n\u001b[1;32m    254\u001b[0m \u001b[0;34m\u001b[0m\u001b[0m\n\u001b[1;32m    255\u001b[0m     tunnel = NgrokTunnel(api_request(\"{}/api/tunnels\".format(api_url), method=\"POST\", data=options,\n\u001b[0;32m--> 256\u001b[0;31m                                      timeout=pyngrok_config.request_timeout),\n\u001b[0m\u001b[1;32m    257\u001b[0m                          pyngrok_config, api_url)\n\u001b[1;32m    258\u001b[0m \u001b[0;34m\u001b[0m\u001b[0m\n",
            "\u001b[0;32m/usr/local/lib/python3.7/dist-packages/pyngrok/ngrok.py\u001b[0m in \u001b[0;36mapi_request\u001b[0;34m(url, method, data, params, timeout)\u001b[0m\n\u001b[1;32m    461\u001b[0m         raise PyngrokNgrokHTTPError(\"ngrok client exception, API returned {}: {}\".format(status_code, response_data),\n\u001b[1;32m    462\u001b[0m                                     \u001b[0me\u001b[0m\u001b[0;34m.\u001b[0m\u001b[0murl\u001b[0m\u001b[0;34m,\u001b[0m\u001b[0;34m\u001b[0m\u001b[0;34m\u001b[0m\u001b[0m\n\u001b[0;32m--> 463\u001b[0;31m                                     status_code, e.msg, e.hdrs, response_data)\n\u001b[0m\u001b[1;32m    464\u001b[0m     \u001b[0;32mexcept\u001b[0m \u001b[0mURLError\u001b[0m \u001b[0;32mas\u001b[0m \u001b[0me\u001b[0m\u001b[0;34m:\u001b[0m\u001b[0;34m\u001b[0m\u001b[0;34m\u001b[0m\u001b[0m\n\u001b[1;32m    465\u001b[0m         \u001b[0;32mraise\u001b[0m \u001b[0mPyngrokNgrokURLError\u001b[0m\u001b[0;34m(\u001b[0m\u001b[0;34m\"ngrok client exception, URLError: {}\"\u001b[0m\u001b[0;34m.\u001b[0m\u001b[0mformat\u001b[0m\u001b[0;34m(\u001b[0m\u001b[0me\u001b[0m\u001b[0;34m.\u001b[0m\u001b[0mreason\u001b[0m\u001b[0;34m)\u001b[0m\u001b[0;34m,\u001b[0m \u001b[0me\u001b[0m\u001b[0;34m.\u001b[0m\u001b[0mreason\u001b[0m\u001b[0;34m)\u001b[0m\u001b[0;34m\u001b[0m\u001b[0;34m\u001b[0m\u001b[0m\n",
            "\u001b[0;31mPyngrokNgrokHTTPError\u001b[0m: ngrok client exception, API returned 502: {\"error_code\":103,\"status_code\":502,\"msg\":\"failed to start tunnel\",\"details\":{\"err\":\"Your account may not run more than 2 tunnels over a single ngrok agent session.\\nThe tunnels already running on this session are:\\ntn_2DUzGH7jCLIqiJnVe3iy2Terqte, tn_2DUzGLPCMqx8zlfoDIdXW0auxfn\\n\\r\\n\\r\\nERR_NGROK_324\\r\\n\"}}\n"
          ]
        }
      ]
    },
    {
      "cell_type": "code",
      "source": [
        "!python PruebaPython001.py"
      ],
      "metadata": {
        "id": "fj3HCP9hgilP"
      },
      "execution_count": null,
      "outputs": []
    }
  ]
}