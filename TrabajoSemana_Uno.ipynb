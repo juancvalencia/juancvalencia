{
  "nbformat": 4,
  "nbformat_minor": 0,
  "metadata": {
    "colab": {
      "name": "TrabajoSemana_Uno.ipynb",
      "provenance": [],
      "collapsed_sections": [],
      "authorship_tag": "ABX9TyOCyvZqCePWvNGTUvDsUTX/",
      "include_colab_link": true
    },
    "kernelspec": {
      "name": "python3",
      "display_name": "Python 3"
    },
    "language_info": {
      "name": "python"
    }
  },
  "cells": [
    {
      "cell_type": "markdown",
      "metadata": {
        "id": "view-in-github",
        "colab_type": "text"
      },
      "source": [
        "<a href=\"https://colab.research.google.com/github/juancvalencia/juancvalencia/blob/main/TrabajoSemana_Uno.ipynb\" target=\"_parent\"><img src=\"https://colab.research.google.com/assets/colab-badge.svg\" alt=\"Open In Colab\"/></a>"
      ]
    },
    {
      "cell_type": "markdown",
      "source": [
        "# **Reto UNO**\n",
        "\n",
        "En un almacén se tienen 55 pares de pantalones, los cuales se deberán agrupar en 7 paquetes, y las piezas sobrantes se podrán vender de forma individual a $70.\n",
        "\n",
        "¿Cuántos pantalones habrá en cada paquete?\n",
        "\n",
        "¿Cuál es el monto total que se percibirá de los pantalones vendidos individualmente?\n",
        "\n",
        "Usando print haz que estos resultados se muestren en pantalla."
      ],
      "metadata": {
        "id": "TQ40oLFAXGJJ"
      }
    },
    {
      "cell_type": "code",
      "source": [
        "un_paquete = 14\n",
        "print(\"Un paquete tiene --> \",un_paquete , \"--> pantalones\")\n",
        "\n",
        "\n",
        "paquete = 55 // 7\n",
        "print(\"Cantidad de Paquetes = \", paquete)\n",
        "\n",
        "venta = 55 % 7\n",
        "monto_total = venta * 70\n",
        "print(\"cantidad patalones a vender a $70   --> \", venta, \" Valor Venta Total --> \", monto_total)\n",
        "\n"
      ],
      "metadata": {
        "colab": {
          "base_uri": "https://localhost:8080/"
        },
        "id": "3YLLryIAXJKN",
        "outputId": "f833c7c4-63ac-4e01-a9b6-a3cc93e01ba2"
      },
      "execution_count": 10,
      "outputs": [
        {
          "output_type": "stream",
          "name": "stdout",
          "text": [
            "Un paquete tiene -->  14 --> pantalones\n",
            "Cantidad de Paquetes =  7\n",
            "cantidad patalones a vender a $70   -->  6  Valor Venta Total -->  420\n"
          ]
        }
      ]
    },
    {
      "cell_type": "markdown",
      "source": [
        "# **Reto DOS**\n",
        "\n",
        "Investiga un poema pequeño y usando print haz que se muestre en pantalla, al finalizar el poema deberás hacer que se vea una línea donde indica que has finalizado, como esta:\n",
        "Poema línea 1,\n",
        "\n",
        "poema línea 2,\n",
        "\n",
        "poema lìnea 3,\n",
        " ::: ==================================== ::\n",
        "\n",
        "# **Poema a Utilizar**\n",
        "\n",
        "Mis pasos en esta calle\n",
        "\n",
        "Resuenan\n",
        "\n",
        "En otra calle\n",
        "\n",
        "Donde\n",
        "\n",
        "Oigo mis pasos\n",
        "\n",
        "Pasar en esta calle\n",
        "\n",
        "Donde\n",
        "\n",
        "Sólo es real la niebla."
      ],
      "metadata": {
        "id": "ex0uLwlHcr2D"
      }
    },
    {
      "cell_type": "code",
      "source": [
        "c1 = \"Mis pasos en esta calle\"\n",
        "c2 = \"Resuenan\"\n",
        "c3 = \"En otra calle\"\n",
        "c4 = \"Donde\"\n",
        "c5 = \"Oigo mis pasos\"\n",
        "c6 = \"Pasar en esta calle\"\n",
        "c7 = \"Donde\"\n",
        "c8 = \"Sólo es real la niebla.\"\n",
        "print(\"\",c1,\", \\n\",c2,\", \\n\",c3,\", \\n\",c4,\", \\n\",c5,\", \\n\",c6,\", \\n\",c7,\", \\n\",c8,\"\\n\",\"=\"*28)\n"
      ],
      "metadata": {
        "colab": {
          "base_uri": "https://localhost:8080/"
        },
        "id": "W4ktyhNhdH3w",
        "outputId": "d939a8e4-405a-4089-bb0f-320695a195c4"
      },
      "execution_count": 17,
      "outputs": [
        {
          "output_type": "stream",
          "name": "stdout",
          "text": [
            " Mis pasos en esta calle , \n",
            " Resuenan , \n",
            " En otra calle , \n",
            " Donde , \n",
            " Oigo mis pasos , \n",
            " Pasar en esta calle , \n",
            " Donde , \n",
            " Sólo es real la niebla. \n",
            " ============================\n"
          ]
        }
      ]
    },
    {
      "cell_type": "markdown",
      "source": [
        "# **Reto DOS**\n",
        "Genera una lista llamada numeros_primos que contenga los siguientes valores: \n",
        "\n",
        "1 2 3 5 7 11 13 17 19 23 29 31\n",
        "\n",
        "Ahora deberás indicar cuál es el tercer valor, el séptimo valor y el último valor usando las expresiones que prendimos en este apartado."
      ],
      "metadata": {
        "id": "dCF5ZR16fz9T"
      }
    },
    {
      "cell_type": "code",
      "source": [
        "primos = [1,2,3,5,7,11,13,17,19,23,29,31]\n",
        "\n",
        "print(\"tercer valor --> \", primos[2])\n",
        "print(\"septimo valor --> \", primos[7])\n",
        "print(\"ultimo valor --> \", primos[-1])\n"
      ],
      "metadata": {
        "colab": {
          "base_uri": "https://localhost:8080/"
        },
        "id": "ruSVsf-6fi9h",
        "outputId": "3a652b8b-a210-4a43-818e-30f38bd5d12e"
      },
      "execution_count": 18,
      "outputs": [
        {
          "output_type": "stream",
          "name": "stdout",
          "text": [
            "tercer valor -->  3\n",
            "septimo valor -->  17\n",
            "ultimo valor -->  31\n"
          ]
        }
      ]
    },
    {
      "cell_type": "markdown",
      "source": [
        "# **Reto TRES**\n",
        "Deberás hacer una lista llamada estudiantes con los siguientes nombres (cuidado, son cadenas de texto):\n",
        "\n",
        "Amanda\n",
        "\n",
        "Berenice\n",
        "\n",
        "Celia\n",
        "\n",
        "Danae\n",
        "\n",
        "Elena\n",
        "\n",
        "Fabiola\n",
        "\n",
        "Giselle\n",
        "\n",
        "Ahora deberás hacer un blucle for en la que a cada nombre deberá comprobar si la última letra de cada nombre termina en a, si esa condición se cumple deberá decir:\n",
        "\n",
        "Amanda termina con la letra A, y si no deberá decir: Berenice no termina con la letra A. Esto es para cada nombre en la lista.\n",
        "\n",
        "\n",
        "Pista:\n",
        "for i in lista_de_objetos:\n",
        "\n",
        "    if i[1] == 'm':\n",
        "\n",
        "        print(i + ' empieza con m')\n",
        "\n",
        "    else:\n",
        "    \n",
        "        print(i + ' no empieza con m')"
      ],
      "metadata": {
        "id": "Qa60Ex_DhFnF"
      }
    },
    {
      "cell_type": "code",
      "source": [
        "estudiantes = [\"Amanda\",\"Berenice\",\"Celia\",\"Danae\",\"Elena\",\"Fabiola\",\"Giselle\"]\n",
        "\n",
        "for item in estudiantes:\n",
        "  long = len(item)\n",
        "  if item[-1] == \"a\":\n",
        "    print(\"el nombre  \", item , \"si termina en A y esta en la posicion --> \", long )\n",
        "  else:\n",
        "    print(\"el nombre  \", item , \"no termina en A\") \n"
      ],
      "metadata": {
        "colab": {
          "base_uri": "https://localhost:8080/"
        },
        "id": "YyFiuFNYhaIk",
        "outputId": "4414d830-d242-4a29-ca97-db0531589a17"
      },
      "execution_count": 23,
      "outputs": [
        {
          "output_type": "stream",
          "name": "stdout",
          "text": [
            "el nombre   Amanda si termina en A y esta en la posicion -->  6\n",
            "el nombre   Berenice no termina en A\n",
            "el nombre   Celia si termina en A y esta en la posicion -->  5\n",
            "el nombre   Danae no termina en A\n",
            "el nombre   Elena si termina en A y esta en la posicion -->  5\n",
            "el nombre   Fabiola si termina en A y esta en la posicion -->  7\n",
            "el nombre   Giselle no termina en A\n"
          ]
        }
      ]
    },
    {
      "cell_type": "markdown",
      "source": [
        "# **Reto CUATRO**\n",
        "\n",
        "Haz una lista llamada amigos donde deberás indicar el nombre de cinco amigos tuyos. Después, con un búcle deberás imprimir en pantalla un saludo a cada uno."
      ],
      "metadata": {
        "id": "j085D__hkQRS"
      }
    },
    {
      "cell_type": "code",
      "source": [
        "amigos=[\"pablito\",\"sebastian\",\"margarita\",\"pedro\",\"laura\"]\n",
        "for item in amigos:\n",
        "  print(\"hola mi amig@ -- \", item)"
      ],
      "metadata": {
        "colab": {
          "base_uri": "https://localhost:8080/"
        },
        "id": "ruczexQdkc-J",
        "outputId": "e2f3a9c9-1f26-47c1-99d4-1f93d04139d8"
      },
      "execution_count": 25,
      "outputs": [
        {
          "output_type": "stream",
          "name": "stdout",
          "text": [
            "hola mi amig@ --  pablito\n",
            "hola mi amig@ --  sebastian\n",
            "hola mi amig@ --  margarita\n",
            "hola mi amig@ --  pedro\n",
            "hola mi amig@ --  laura\n"
          ]
        }
      ]
    }
  ]
}